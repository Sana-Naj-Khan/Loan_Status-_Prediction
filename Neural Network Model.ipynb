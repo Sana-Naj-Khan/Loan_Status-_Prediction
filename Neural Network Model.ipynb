{
 "cells": [
  {
   "cell_type": "markdown",
   "id": "106d969f",
   "metadata": {},
   "source": [
    "# Loan Prediction using Neural Network"
   ]
  },
  {
   "cell_type": "code",
   "execution_count": 1,
   "id": "c280828a",
   "metadata": {},
   "outputs": [],
   "source": [
    "from warnings import filterwarnings\n",
    "filterwarnings(\"ignore\")"
   ]
  },
  {
   "cell_type": "code",
   "execution_count": 2,
   "id": "3ee14153",
   "metadata": {},
   "outputs": [],
   "source": [
    "import os\n",
    "os.chdir(\"C:/Users/hp/Desktop/Python Classess/Deep Learning/Project_II_end_to_end\")"
   ]
  },
  {
   "cell_type": "code",
   "execution_count": 3,
   "id": "1908fb5a",
   "metadata": {},
   "outputs": [],
   "source": [
    "import pandas as pd\n",
    "A = pd.read_csv(\"training_set.csv\")"
   ]
  },
  {
   "cell_type": "code",
   "execution_count": 4,
   "id": "02f90ce6",
   "metadata": {},
   "outputs": [
    {
     "data": {
      "text/html": [
       "<div>\n",
       "<style scoped>\n",
       "    .dataframe tbody tr th:only-of-type {\n",
       "        vertical-align: middle;\n",
       "    }\n",
       "\n",
       "    .dataframe tbody tr th {\n",
       "        vertical-align: top;\n",
       "    }\n",
       "\n",
       "    .dataframe thead th {\n",
       "        text-align: right;\n",
       "    }\n",
       "</style>\n",
       "<table border=\"1\" class=\"dataframe\">\n",
       "  <thead>\n",
       "    <tr style=\"text-align: right;\">\n",
       "      <th></th>\n",
       "      <th>Loan_ID</th>\n",
       "      <th>Gender</th>\n",
       "      <th>Married</th>\n",
       "      <th>Dependents</th>\n",
       "      <th>Education</th>\n",
       "      <th>Self_Employed</th>\n",
       "      <th>ApplicantIncome</th>\n",
       "      <th>CoapplicantIncome</th>\n",
       "      <th>LoanAmount</th>\n",
       "      <th>Loan_Amount_Term</th>\n",
       "      <th>Credit_History</th>\n",
       "      <th>Property_Area</th>\n",
       "      <th>Loan_Status</th>\n",
       "    </tr>\n",
       "  </thead>\n",
       "  <tbody>\n",
       "    <tr>\n",
       "      <th>0</th>\n",
       "      <td>LP001002</td>\n",
       "      <td>Male</td>\n",
       "      <td>No</td>\n",
       "      <td>0</td>\n",
       "      <td>Graduate</td>\n",
       "      <td>No</td>\n",
       "      <td>5849.0</td>\n",
       "      <td>0.0</td>\n",
       "      <td>NaN</td>\n",
       "      <td>360.0</td>\n",
       "      <td>1.0</td>\n",
       "      <td>Urban</td>\n",
       "      <td>Y</td>\n",
       "    </tr>\n",
       "    <tr>\n",
       "      <th>1</th>\n",
       "      <td>LP001003</td>\n",
       "      <td>Male</td>\n",
       "      <td>Yes</td>\n",
       "      <td>1</td>\n",
       "      <td>Graduate</td>\n",
       "      <td>No</td>\n",
       "      <td>NaN</td>\n",
       "      <td>1508.0</td>\n",
       "      <td>128.0</td>\n",
       "      <td>360.0</td>\n",
       "      <td>1.0</td>\n",
       "      <td>Rural</td>\n",
       "      <td>N</td>\n",
       "    </tr>\n",
       "    <tr>\n",
       "      <th>2</th>\n",
       "      <td>LP001005</td>\n",
       "      <td>Male</td>\n",
       "      <td>Yes</td>\n",
       "      <td>0</td>\n",
       "      <td>Graduate</td>\n",
       "      <td>Yes</td>\n",
       "      <td>3000.0</td>\n",
       "      <td>0.0</td>\n",
       "      <td>66.0</td>\n",
       "      <td>360.0</td>\n",
       "      <td>1.0</td>\n",
       "      <td>Urban</td>\n",
       "      <td>Y</td>\n",
       "    </tr>\n",
       "  </tbody>\n",
       "</table>\n",
       "</div>"
      ],
      "text/plain": [
       "    Loan_ID Gender Married Dependents Education Self_Employed  \\\n",
       "0  LP001002   Male      No          0  Graduate            No   \n",
       "1  LP001003   Male     Yes          1  Graduate            No   \n",
       "2  LP001005   Male     Yes          0  Graduate           Yes   \n",
       "\n",
       "   ApplicantIncome  CoapplicantIncome  LoanAmount  Loan_Amount_Term  \\\n",
       "0           5849.0                0.0         NaN             360.0   \n",
       "1              NaN             1508.0       128.0             360.0   \n",
       "2           3000.0                0.0        66.0             360.0   \n",
       "\n",
       "   Credit_History Property_Area Loan_Status  \n",
       "0             1.0         Urban           Y  \n",
       "1             1.0         Rural           N  \n",
       "2             1.0         Urban           Y  "
      ]
     },
     "execution_count": 4,
     "metadata": {},
     "output_type": "execute_result"
    }
   ],
   "source": [
    "A.head(3)"
   ]
  },
  {
   "cell_type": "markdown",
   "id": "29dde117",
   "metadata": {},
   "source": [
    "# Missing Data Treatment"
   ]
  },
  {
   "cell_type": "code",
   "execution_count": 5,
   "id": "0fefc1c5",
   "metadata": {},
   "outputs": [
    {
     "data": {
      "text/plain": [
       "Loan_ID               0\n",
       "Gender               15\n",
       "Married               3\n",
       "Dependents           15\n",
       "Education             1\n",
       "Self_Employed        32\n",
       "ApplicantIncome       2\n",
       "CoapplicantIncome     1\n",
       "LoanAmount           22\n",
       "Loan_Amount_Term     14\n",
       "Credit_History       50\n",
       "Property_Area         0\n",
       "Loan_Status           0\n",
       "dtype: int64"
      ]
     },
     "execution_count": 5,
     "metadata": {},
     "output_type": "execute_result"
    }
   ],
   "source": [
    "A.isna().sum()"
   ]
  },
  {
   "cell_type": "code",
   "execution_count": 6,
   "id": "d16a9afa",
   "metadata": {},
   "outputs": [],
   "source": [
    "from PM8wd import replacer\n",
    "replacer(A)"
   ]
  },
  {
   "cell_type": "code",
   "execution_count": 7,
   "id": "6d54f31b",
   "metadata": {},
   "outputs": [],
   "source": [
    "Y=A[[\"Loan_Status\"]]\n",
    "X=A.drop(labels=[\"Loan_ID\",\"Loan_Status\"],axis=1)"
   ]
  },
  {
   "cell_type": "code",
   "execution_count": 8,
   "id": "80f4da7d",
   "metadata": {},
   "outputs": [
    {
     "data": {
      "text/html": [
       "<div>\n",
       "<style scoped>\n",
       "    .dataframe tbody tr th:only-of-type {\n",
       "        vertical-align: middle;\n",
       "    }\n",
       "\n",
       "    .dataframe tbody tr th {\n",
       "        vertical-align: top;\n",
       "    }\n",
       "\n",
       "    .dataframe thead th {\n",
       "        text-align: right;\n",
       "    }\n",
       "</style>\n",
       "<table border=\"1\" class=\"dataframe\">\n",
       "  <thead>\n",
       "    <tr style=\"text-align: right;\">\n",
       "      <th></th>\n",
       "      <th>Gender</th>\n",
       "      <th>Married</th>\n",
       "      <th>Dependents</th>\n",
       "      <th>Education</th>\n",
       "      <th>Self_Employed</th>\n",
       "      <th>ApplicantIncome</th>\n",
       "      <th>CoapplicantIncome</th>\n",
       "      <th>LoanAmount</th>\n",
       "      <th>Loan_Amount_Term</th>\n",
       "      <th>Credit_History</th>\n",
       "      <th>Property_Area</th>\n",
       "    </tr>\n",
       "  </thead>\n",
       "  <tbody>\n",
       "    <tr>\n",
       "      <th>0</th>\n",
       "      <td>Male</td>\n",
       "      <td>No</td>\n",
       "      <td>0</td>\n",
       "      <td>Graduate</td>\n",
       "      <td>No</td>\n",
       "      <td>5849.00000</td>\n",
       "      <td>0.0</td>\n",
       "      <td>146.412162</td>\n",
       "      <td>360.0</td>\n",
       "      <td>1.0</td>\n",
       "      <td>Urban</td>\n",
       "    </tr>\n",
       "    <tr>\n",
       "      <th>1</th>\n",
       "      <td>Male</td>\n",
       "      <td>Yes</td>\n",
       "      <td>1</td>\n",
       "      <td>Graduate</td>\n",
       "      <td>No</td>\n",
       "      <td>5405.54085</td>\n",
       "      <td>1508.0</td>\n",
       "      <td>128.000000</td>\n",
       "      <td>360.0</td>\n",
       "      <td>1.0</td>\n",
       "      <td>Rural</td>\n",
       "    </tr>\n",
       "  </tbody>\n",
       "</table>\n",
       "</div>"
      ],
      "text/plain": [
       "  Gender Married Dependents Education Self_Employed  ApplicantIncome  \\\n",
       "0   Male      No          0  Graduate            No       5849.00000   \n",
       "1   Male     Yes          1  Graduate            No       5405.54085   \n",
       "\n",
       "   CoapplicantIncome  LoanAmount  Loan_Amount_Term  Credit_History  \\\n",
       "0                0.0  146.412162             360.0             1.0   \n",
       "1             1508.0  128.000000             360.0             1.0   \n",
       "\n",
       "  Property_Area  \n",
       "0         Urban  \n",
       "1         Rural  "
      ]
     },
     "execution_count": 8,
     "metadata": {},
     "output_type": "execute_result"
    }
   ],
   "source": [
    "X.head(2)"
   ]
  },
  {
   "cell_type": "code",
   "execution_count": 9,
   "id": "3dccefb1",
   "metadata": {},
   "outputs": [
    {
     "data": {
      "text/plain": [
       "(614, 11)"
      ]
     },
     "execution_count": 9,
     "metadata": {},
     "output_type": "execute_result"
    }
   ],
   "source": [
    "X.shape"
   ]
  },
  {
   "cell_type": "code",
   "execution_count": 10,
   "id": "4fca8ca5",
   "metadata": {},
   "outputs": [
    {
     "data": {
      "text/plain": [
       "(614, 1)"
      ]
     },
     "execution_count": 10,
     "metadata": {},
     "output_type": "execute_result"
    }
   ],
   "source": [
    "Y.shape"
   ]
  },
  {
   "cell_type": "code",
   "execution_count": 11,
   "id": "a9fa8a84",
   "metadata": {},
   "outputs": [],
   "source": [
    "from PM8wd import catconsep \n",
    "cat,con= catconsep(X)"
   ]
  },
  {
   "cell_type": "code",
   "execution_count": 12,
   "id": "cc7142c1",
   "metadata": {},
   "outputs": [
    {
     "data": {
      "text/plain": [
       "['Gender',\n",
       " 'Married',\n",
       " 'Dependents',\n",
       " 'Education',\n",
       " 'Self_Employed',\n",
       " 'Property_Area']"
      ]
     },
     "execution_count": 12,
     "metadata": {},
     "output_type": "execute_result"
    }
   ],
   "source": [
    "cat"
   ]
  },
  {
   "cell_type": "code",
   "execution_count": 13,
   "id": "7d90a09e",
   "metadata": {},
   "outputs": [
    {
     "data": {
      "text/plain": [
       "['ApplicantIncome',\n",
       " 'CoapplicantIncome',\n",
       " 'LoanAmount',\n",
       " 'Loan_Amount_Term',\n",
       " 'Credit_History']"
      ]
     },
     "execution_count": 13,
     "metadata": {},
     "output_type": "execute_result"
    }
   ],
   "source": [
    "con"
   ]
  },
  {
   "cell_type": "code",
   "execution_count": 14,
   "id": "c779df2f",
   "metadata": {},
   "outputs": [],
   "source": [
    "from sklearn.preprocessing import LabelEncoder\n",
    "le= LabelEncoder()\n",
    "Y.Loan_Status= le.fit_transform(Y)"
   ]
  },
  {
   "cell_type": "code",
   "execution_count": 15,
   "id": "bb854ae7",
   "metadata": {},
   "outputs": [],
   "source": [
    "from sklearn.preprocessing import StandardScaler \n",
    "ss=StandardScaler()\n",
    "X1=pd.DataFrame(ss.fit_transform(X[con]),columns=con)\n",
    "X2= pd.get_dummies(X[cat])\n",
    "Xnew= X1.join(X2)"
   ]
  },
  {
   "cell_type": "code",
   "execution_count": 16,
   "id": "b3fbdccc",
   "metadata": {},
   "outputs": [
    {
     "data": {
      "text/html": [
       "<div>\n",
       "<style scoped>\n",
       "    .dataframe tbody tr th:only-of-type {\n",
       "        vertical-align: middle;\n",
       "    }\n",
       "\n",
       "    .dataframe tbody tr th {\n",
       "        vertical-align: top;\n",
       "    }\n",
       "\n",
       "    .dataframe thead th {\n",
       "        text-align: right;\n",
       "    }\n",
       "</style>\n",
       "<table border=\"1\" class=\"dataframe\">\n",
       "  <thead>\n",
       "    <tr style=\"text-align: right;\">\n",
       "      <th></th>\n",
       "      <th>ApplicantIncome</th>\n",
       "      <th>CoapplicantIncome</th>\n",
       "      <th>LoanAmount</th>\n",
       "      <th>Loan_Amount_Term</th>\n",
       "      <th>Credit_History</th>\n",
       "      <th>Gender_Female</th>\n",
       "      <th>Gender_Male</th>\n",
       "      <th>Married_No</th>\n",
       "      <th>Married_Yes</th>\n",
       "      <th>Dependents_0</th>\n",
       "      <th>Dependents_1</th>\n",
       "      <th>Dependents_2</th>\n",
       "      <th>Dependents_3+</th>\n",
       "      <th>Education_Graduate</th>\n",
       "      <th>Education_Not Graduate</th>\n",
       "      <th>Self_Employed_No</th>\n",
       "      <th>Self_Employed_Yes</th>\n",
       "      <th>Property_Area_Rural</th>\n",
       "      <th>Property_Area_Semiurban</th>\n",
       "      <th>Property_Area_Urban</th>\n",
       "    </tr>\n",
       "  </thead>\n",
       "  <tbody>\n",
       "    <tr>\n",
       "      <th>0</th>\n",
       "      <td>0.072651</td>\n",
       "      <td>-0.554368</td>\n",
       "      <td>0.000000</td>\n",
       "      <td>0.279851</td>\n",
       "      <td>0.45164</td>\n",
       "      <td>0</td>\n",
       "      <td>1</td>\n",
       "      <td>1</td>\n",
       "      <td>0</td>\n",
       "      <td>1</td>\n",
       "      <td>0</td>\n",
       "      <td>0</td>\n",
       "      <td>0</td>\n",
       "      <td>1</td>\n",
       "      <td>0</td>\n",
       "      <td>1</td>\n",
       "      <td>0</td>\n",
       "      <td>0</td>\n",
       "      <td>0</td>\n",
       "      <td>1</td>\n",
       "    </tr>\n",
       "    <tr>\n",
       "      <th>1</th>\n",
       "      <td>0.000000</td>\n",
       "      <td>-0.038610</td>\n",
       "      <td>-0.219273</td>\n",
       "      <td>0.279851</td>\n",
       "      <td>0.45164</td>\n",
       "      <td>0</td>\n",
       "      <td>1</td>\n",
       "      <td>0</td>\n",
       "      <td>1</td>\n",
       "      <td>0</td>\n",
       "      <td>1</td>\n",
       "      <td>0</td>\n",
       "      <td>0</td>\n",
       "      <td>1</td>\n",
       "      <td>0</td>\n",
       "      <td>1</td>\n",
       "      <td>0</td>\n",
       "      <td>1</td>\n",
       "      <td>0</td>\n",
       "      <td>0</td>\n",
       "    </tr>\n",
       "    <tr>\n",
       "      <th>2</th>\n",
       "      <td>-0.394096</td>\n",
       "      <td>-0.554368</td>\n",
       "      <td>-0.957641</td>\n",
       "      <td>0.279851</td>\n",
       "      <td>0.45164</td>\n",
       "      <td>0</td>\n",
       "      <td>1</td>\n",
       "      <td>0</td>\n",
       "      <td>1</td>\n",
       "      <td>1</td>\n",
       "      <td>0</td>\n",
       "      <td>0</td>\n",
       "      <td>0</td>\n",
       "      <td>1</td>\n",
       "      <td>0</td>\n",
       "      <td>0</td>\n",
       "      <td>1</td>\n",
       "      <td>0</td>\n",
       "      <td>0</td>\n",
       "      <td>1</td>\n",
       "    </tr>\n",
       "    <tr>\n",
       "      <th>3</th>\n",
       "      <td>-0.462412</td>\n",
       "      <td>0.252103</td>\n",
       "      <td>-0.314547</td>\n",
       "      <td>0.279851</td>\n",
       "      <td>0.45164</td>\n",
       "      <td>0</td>\n",
       "      <td>1</td>\n",
       "      <td>0</td>\n",
       "      <td>1</td>\n",
       "      <td>1</td>\n",
       "      <td>0</td>\n",
       "      <td>0</td>\n",
       "      <td>0</td>\n",
       "      <td>0</td>\n",
       "      <td>1</td>\n",
       "      <td>1</td>\n",
       "      <td>0</td>\n",
       "      <td>0</td>\n",
       "      <td>0</td>\n",
       "      <td>1</td>\n",
       "    </tr>\n",
       "  </tbody>\n",
       "</table>\n",
       "</div>"
      ],
      "text/plain": [
       "   ApplicantIncome  CoapplicantIncome  LoanAmount  Loan_Amount_Term  \\\n",
       "0         0.072651          -0.554368    0.000000          0.279851   \n",
       "1         0.000000          -0.038610   -0.219273          0.279851   \n",
       "2        -0.394096          -0.554368   -0.957641          0.279851   \n",
       "3        -0.462412           0.252103   -0.314547          0.279851   \n",
       "\n",
       "   Credit_History  Gender_Female  Gender_Male  Married_No  Married_Yes  \\\n",
       "0         0.45164              0            1           1            0   \n",
       "1         0.45164              0            1           0            1   \n",
       "2         0.45164              0            1           0            1   \n",
       "3         0.45164              0            1           0            1   \n",
       "\n",
       "   Dependents_0  Dependents_1  Dependents_2  Dependents_3+  \\\n",
       "0             1             0             0              0   \n",
       "1             0             1             0              0   \n",
       "2             1             0             0              0   \n",
       "3             1             0             0              0   \n",
       "\n",
       "   Education_Graduate  Education_Not Graduate  Self_Employed_No  \\\n",
       "0                   1                       0                 1   \n",
       "1                   1                       0                 1   \n",
       "2                   1                       0                 0   \n",
       "3                   0                       1                 1   \n",
       "\n",
       "   Self_Employed_Yes  Property_Area_Rural  Property_Area_Semiurban  \\\n",
       "0                  0                    0                        0   \n",
       "1                  0                    1                        0   \n",
       "2                  1                    0                        0   \n",
       "3                  0                    0                        0   \n",
       "\n",
       "   Property_Area_Urban  \n",
       "0                    1  \n",
       "1                    0  \n",
       "2                    1  \n",
       "3                    1  "
      ]
     },
     "execution_count": 16,
     "metadata": {},
     "output_type": "execute_result"
    }
   ],
   "source": [
    "Xnew.head(4)"
   ]
  },
  {
   "cell_type": "code",
   "execution_count": 17,
   "id": "f98364a9",
   "metadata": {},
   "outputs": [],
   "source": [
    "from sklearn.model_selection import train_test_split\n",
    "xtrain,xtest,ytrain,ytest=train_test_split(Xnew,Y,test_size=0.2,random_state=21)"
   ]
  },
  {
   "cell_type": "code",
   "execution_count": 18,
   "id": "7e7d6f8e",
   "metadata": {},
   "outputs": [
    {
     "data": {
      "text/plain": [
       "20"
      ]
     },
     "execution_count": 18,
     "metadata": {},
     "output_type": "execute_result"
    }
   ],
   "source": [
    "xtrain.shape[1]"
   ]
  },
  {
   "cell_type": "markdown",
   "id": "6c14128e",
   "metadata": {},
   "source": [
    "# create an ANN with only 1 hidden layer(untuned)"
   ]
  },
  {
   "cell_type": "code",
   "execution_count": 19,
   "id": "d368f400",
   "metadata": {},
   "outputs": [],
   "source": [
    "from keras.models import Sequential\n",
    "from keras.layers import Dense,Dropout\n",
    "nn= Sequential()\n",
    "nn.add(Dense(128,input_dim=xtrain.shape[1]))\n",
    "nn.add(Dense(20))\n",
    "nn.add(Dropout(0.1))\n",
    "nn.add(Dense(1,activation=\"sigmoid\"))"
   ]
  },
  {
   "cell_type": "code",
   "execution_count": 20,
   "id": "eac7d841",
   "metadata": {},
   "outputs": [],
   "source": [
    "nn.compile(loss=\"binary_crossentropy\",metrics=\"accuracy\")"
   ]
  },
  {
   "cell_type": "code",
   "execution_count": 21,
   "id": "f1f968c6",
   "metadata": {},
   "outputs": [
    {
     "name": "stdout",
     "output_type": "stream",
     "text": [
      "Epoch 1/50\n",
      "13/13 [==============================] - 1s 22ms/step - loss: 0.5713 - accuracy: 0.7500 - val_loss: 0.5189 - val_accuracy: 0.7879\n",
      "Epoch 2/50\n",
      "13/13 [==============================] - 0s 5ms/step - loss: 0.4798 - accuracy: 0.8112 - val_loss: 0.4943 - val_accuracy: 0.8081\n",
      "Epoch 3/50\n",
      "13/13 [==============================] - 0s 4ms/step - loss: 0.4646 - accuracy: 0.8138 - val_loss: 0.4963 - val_accuracy: 0.7980\n",
      "Epoch 4/50\n",
      "13/13 [==============================] - 0s 4ms/step - loss: 0.4745 - accuracy: 0.7985 - val_loss: 0.4966 - val_accuracy: 0.7980\n",
      "Epoch 5/50\n",
      "13/13 [==============================] - 0s 4ms/step - loss: 0.4610 - accuracy: 0.8112 - val_loss: 0.5082 - val_accuracy: 0.7980\n",
      "Epoch 6/50\n",
      "13/13 [==============================] - 0s 4ms/step - loss: 0.4593 - accuracy: 0.8087 - val_loss: 0.4996 - val_accuracy: 0.7980\n",
      "Epoch 7/50\n",
      "13/13 [==============================] - 0s 4ms/step - loss: 0.4649 - accuracy: 0.7985 - val_loss: 0.5054 - val_accuracy: 0.7980\n",
      "Epoch 8/50\n",
      "13/13 [==============================] - 0s 4ms/step - loss: 0.4602 - accuracy: 0.8112 - val_loss: 0.5054 - val_accuracy: 0.7980\n",
      "Epoch 9/50\n",
      "13/13 [==============================] - 0s 4ms/step - loss: 0.4569 - accuracy: 0.8087 - val_loss: 0.5183 - val_accuracy: 0.8081\n",
      "Epoch 10/50\n",
      "13/13 [==============================] - 0s 4ms/step - loss: 0.4545 - accuracy: 0.8087 - val_loss: 0.5103 - val_accuracy: 0.8081\n",
      "Epoch 11/50\n",
      "13/13 [==============================] - 0s 4ms/step - loss: 0.4550 - accuracy: 0.8036 - val_loss: 0.5282 - val_accuracy: 0.8081\n",
      "Epoch 12/50\n",
      "13/13 [==============================] - 0s 4ms/step - loss: 0.4525 - accuracy: 0.8112 - val_loss: 0.5276 - val_accuracy: 0.7879\n",
      "Epoch 13/50\n",
      "13/13 [==============================] - 0s 4ms/step - loss: 0.4506 - accuracy: 0.8087 - val_loss: 0.5119 - val_accuracy: 0.8081\n",
      "Epoch 14/50\n",
      "13/13 [==============================] - 0s 4ms/step - loss: 0.4579 - accuracy: 0.8087 - val_loss: 0.5208 - val_accuracy: 0.7980\n",
      "Epoch 15/50\n",
      "13/13 [==============================] - 0s 4ms/step - loss: 0.4551 - accuracy: 0.8036 - val_loss: 0.5109 - val_accuracy: 0.7980\n",
      "Epoch 16/50\n",
      "13/13 [==============================] - 0s 4ms/step - loss: 0.4528 - accuracy: 0.8138 - val_loss: 0.5105 - val_accuracy: 0.8081\n",
      "Epoch 17/50\n",
      "13/13 [==============================] - 0s 4ms/step - loss: 0.4511 - accuracy: 0.8087 - val_loss: 0.5117 - val_accuracy: 0.7980\n",
      "Epoch 18/50\n",
      "13/13 [==============================] - 0s 4ms/step - loss: 0.4527 - accuracy: 0.8087 - val_loss: 0.5186 - val_accuracy: 0.7980\n",
      "Epoch 19/50\n",
      "13/13 [==============================] - 0s 4ms/step - loss: 0.4624 - accuracy: 0.8087 - val_loss: 0.5385 - val_accuracy: 0.7778\n",
      "Epoch 20/50\n",
      "13/13 [==============================] - 0s 4ms/step - loss: 0.4627 - accuracy: 0.7985 - val_loss: 0.5127 - val_accuracy: 0.8081\n",
      "Epoch 21/50\n",
      "13/13 [==============================] - 0s 4ms/step - loss: 0.4528 - accuracy: 0.8163 - val_loss: 0.5202 - val_accuracy: 0.7879\n",
      "Epoch 22/50\n",
      "13/13 [==============================] - 0s 4ms/step - loss: 0.4562 - accuracy: 0.8138 - val_loss: 0.5148 - val_accuracy: 0.8081\n",
      "Epoch 23/50\n",
      "13/13 [==============================] - 0s 4ms/step - loss: 0.4518 - accuracy: 0.8010 - val_loss: 0.5113 - val_accuracy: 0.7980\n",
      "Epoch 24/50\n",
      "13/13 [==============================] - 0s 4ms/step - loss: 0.4573 - accuracy: 0.8087 - val_loss: 0.5168 - val_accuracy: 0.7980\n",
      "Epoch 25/50\n",
      "13/13 [==============================] - 0s 4ms/step - loss: 0.4590 - accuracy: 0.8061 - val_loss: 0.5091 - val_accuracy: 0.8081\n",
      "Epoch 26/50\n",
      "13/13 [==============================] - 0s 4ms/step - loss: 0.4561 - accuracy: 0.8061 - val_loss: 0.5339 - val_accuracy: 0.7778\n",
      "Epoch 27/50\n",
      "13/13 [==============================] - 0s 5ms/step - loss: 0.4562 - accuracy: 0.8061 - val_loss: 0.4996 - val_accuracy: 0.8081\n",
      "Epoch 28/50\n",
      "13/13 [==============================] - 0s 4ms/step - loss: 0.4591 - accuracy: 0.8036 - val_loss: 0.5138 - val_accuracy: 0.8081\n",
      "Epoch 29/50\n",
      "13/13 [==============================] - 0s 4ms/step - loss: 0.4556 - accuracy: 0.8061 - val_loss: 0.5264 - val_accuracy: 0.8081\n",
      "Epoch 30/50\n",
      "13/13 [==============================] - 0s 4ms/step - loss: 0.4518 - accuracy: 0.8138 - val_loss: 0.5158 - val_accuracy: 0.8081\n",
      "Epoch 31/50\n",
      "13/13 [==============================] - 0s 4ms/step - loss: 0.4531 - accuracy: 0.8112 - val_loss: 0.5136 - val_accuracy: 0.8081\n",
      "Epoch 32/50\n",
      "13/13 [==============================] - 0s 4ms/step - loss: 0.4581 - accuracy: 0.8087 - val_loss: 0.5158 - val_accuracy: 0.7980\n",
      "Epoch 33/50\n",
      "13/13 [==============================] - 0s 4ms/step - loss: 0.4535 - accuracy: 0.8163 - val_loss: 0.5184 - val_accuracy: 0.8081\n",
      "Epoch 34/50\n",
      "13/13 [==============================] - 0s 4ms/step - loss: 0.4526 - accuracy: 0.8036 - val_loss: 0.5195 - val_accuracy: 0.8081\n",
      "Epoch 35/50\n",
      "13/13 [==============================] - 0s 4ms/step - loss: 0.4554 - accuracy: 0.8138 - val_loss: 0.5232 - val_accuracy: 0.8081\n",
      "Epoch 36/50\n",
      "13/13 [==============================] - 0s 4ms/step - loss: 0.4554 - accuracy: 0.8087 - val_loss: 0.5147 - val_accuracy: 0.8081\n",
      "Epoch 37/50\n",
      "13/13 [==============================] - 0s 4ms/step - loss: 0.4560 - accuracy: 0.8010 - val_loss: 0.5188 - val_accuracy: 0.7980\n",
      "Epoch 38/50\n",
      "13/13 [==============================] - 0s 4ms/step - loss: 0.4513 - accuracy: 0.8112 - val_loss: 0.5145 - val_accuracy: 0.7980\n",
      "Epoch 39/50\n",
      "13/13 [==============================] - 0s 4ms/step - loss: 0.4576 - accuracy: 0.8061 - val_loss: 0.5176 - val_accuracy: 0.7980\n",
      "Epoch 40/50\n",
      "13/13 [==============================] - 0s 4ms/step - loss: 0.4590 - accuracy: 0.8010 - val_loss: 0.5092 - val_accuracy: 0.7980\n",
      "Epoch 41/50\n",
      "13/13 [==============================] - 0s 4ms/step - loss: 0.4596 - accuracy: 0.8087 - val_loss: 0.5188 - val_accuracy: 0.8081\n",
      "Epoch 42/50\n",
      "13/13 [==============================] - 0s 4ms/step - loss: 0.4529 - accuracy: 0.8087 - val_loss: 0.5133 - val_accuracy: 0.7980\n",
      "Epoch 43/50\n",
      "13/13 [==============================] - 0s 4ms/step - loss: 0.4524 - accuracy: 0.8112 - val_loss: 0.5215 - val_accuracy: 0.8081\n",
      "Epoch 44/50\n",
      "13/13 [==============================] - 0s 4ms/step - loss: 0.4485 - accuracy: 0.8087 - val_loss: 0.5205 - val_accuracy: 0.8081\n",
      "Epoch 45/50\n",
      "13/13 [==============================] - 0s 4ms/step - loss: 0.4523 - accuracy: 0.8087 - val_loss: 0.5183 - val_accuracy: 0.8081\n",
      "Epoch 46/50\n",
      "13/13 [==============================] - 0s 4ms/step - loss: 0.4532 - accuracy: 0.8087 - val_loss: 0.5159 - val_accuracy: 0.8081\n",
      "Epoch 47/50\n",
      "13/13 [==============================] - 0s 4ms/step - loss: 0.4565 - accuracy: 0.8112 - val_loss: 0.5353 - val_accuracy: 0.7879\n",
      "Epoch 48/50\n",
      "13/13 [==============================] - 0s 4ms/step - loss: 0.4548 - accuracy: 0.8036 - val_loss: 0.5152 - val_accuracy: 0.7980\n",
      "Epoch 49/50\n",
      "13/13 [==============================] - 0s 4ms/step - loss: 0.4618 - accuracy: 0.8061 - val_loss: 0.5157 - val_accuracy: 0.7980\n",
      "Epoch 50/50\n",
      "13/13 [==============================] - 0s 3ms/step - loss: 0.4546 - accuracy: 0.8138 - val_loss: 0.5148 - val_accuracy: 0.7980\n"
     ]
    }
   ],
   "source": [
    "model=nn.fit(xtrain,ytrain,validation_split=0.2,epochs=50)"
   ]
  },
  {
   "cell_type": "markdown",
   "id": "71bd6ed6",
   "metadata": {},
   "source": [
    "# Tuning Grid"
   ]
  },
  {
   "cell_type": "code",
   "execution_count": 22,
   "id": "23d345de",
   "metadata": {},
   "outputs": [],
   "source": [
    "def model_builder(hp):\n",
    "    nn = Sequential()\n",
    "    nn.add(Dense(128,input_dim=xtrain.shape[1]))\n",
    "    x = hp.Int(\"units\",min_value=32,max_value=256,step=32)\n",
    "    nn.add(Dense(units=x))\n",
    "    y = hp.Choice(\"rate\",values=[0.1,0.2,0.3,0.4,0.5,0.6,0.7])\n",
    "    nn.add(Dropout(rate=y))\n",
    "    nn.add(Dense(1,activation=\"sigmoid\"))\n",
    "    nn.compile(loss=\"binary_crossentropy\",metrics=\"accuracy\")\n",
    "    return nn"
   ]
  },
  {
   "cell_type": "code",
   "execution_count": 26,
   "id": "6022188e",
   "metadata": {},
   "outputs": [],
   "source": [
    "import keras_tuner as kt\n",
    "tuner = kt.Hyperband(model_builder,\n",
    "            objective=\"val_accuracy\",\n",
    "            max_epochs=10,\n",
    "            directory=\"C:/Users/hp/Desktop/Python Classess/Deep Learning/Project_II_end_to_end/KT_NN2\",\n",
    "            project_name=\"Keras_TUNER\")"
   ]
  },
  {
   "cell_type": "code",
   "execution_count": 27,
   "id": "0bf7f1c3",
   "metadata": {},
   "outputs": [],
   "source": [
    "from keras.callbacks import EarlyStopping\n",
    "es = EarlyStopping(monitor=\"val_accuracy\",patience=25)"
   ]
  },
  {
   "cell_type": "code",
   "execution_count": 28,
   "id": "c2f8f230",
   "metadata": {},
   "outputs": [
    {
     "name": "stdout",
     "output_type": "stream",
     "text": [
      "Trial 30 Complete [00h 00m 03s]\n",
      "val_accuracy: 0.8181818127632141\n",
      "\n",
      "Best val_accuracy So Far: 0.8282828330993652\n",
      "Total elapsed time: 00h 01m 06s\n",
      "INFO:tensorflow:Oracle triggered exit\n"
     ]
    }
   ],
   "source": [
    "tuner.search(xtrain,ytrain,epochs=500,validation_split=0.2,callbacks=[es])"
   ]
  },
  {
   "cell_type": "code",
   "execution_count": 29,
   "id": "ff2f1842",
   "metadata": {},
   "outputs": [
    {
     "data": {
      "text/plain": [
       "96"
      ]
     },
     "execution_count": 29,
     "metadata": {},
     "output_type": "execute_result"
    }
   ],
   "source": [
    "tuner.get_best_hyperparameters()[0].get(\"units\")"
   ]
  },
  {
   "cell_type": "code",
   "execution_count": 30,
   "id": "cadc920b",
   "metadata": {},
   "outputs": [
    {
     "data": {
      "text/plain": [
       "0.5"
      ]
     },
     "execution_count": 30,
     "metadata": {},
     "output_type": "execute_result"
    }
   ],
   "source": [
    "tuner.get_best_hyperparameters()[0].get(\"rate\")"
   ]
  },
  {
   "cell_type": "markdown",
   "id": "2657e1a5",
   "metadata": {},
   "source": [
    "# Create a NN with new value of tuned parameter¶"
   ]
  },
  {
   "cell_type": "code",
   "execution_count": 32,
   "id": "6f97a539",
   "metadata": {},
   "outputs": [
    {
     "name": "stdout",
     "output_type": "stream",
     "text": [
      "Epoch 1/10\n",
      "13/13 [==============================] - 1s 14ms/step - loss: 0.6137 - accuracy: 0.6913 - val_loss: 0.4684 - val_accuracy: 0.8182\n",
      "Epoch 2/10\n",
      "13/13 [==============================] - 0s 5ms/step - loss: 0.4879 - accuracy: 0.7985 - val_loss: 0.4734 - val_accuracy: 0.8182\n",
      "Epoch 3/10\n",
      "13/13 [==============================] - 0s 4ms/step - loss: 0.4814 - accuracy: 0.8010 - val_loss: 0.4889 - val_accuracy: 0.8182\n",
      "Epoch 4/10\n",
      "13/13 [==============================] - 0s 4ms/step - loss: 0.4507 - accuracy: 0.7934 - val_loss: 0.5014 - val_accuracy: 0.8182\n",
      "Epoch 5/10\n",
      "13/13 [==============================] - 0s 8ms/step - loss: 0.4545 - accuracy: 0.8061 - val_loss: 0.5117 - val_accuracy: 0.8081\n",
      "Epoch 6/10\n",
      "13/13 [==============================] - 0s 5ms/step - loss: 0.4864 - accuracy: 0.8010 - val_loss: 0.5182 - val_accuracy: 0.7980\n",
      "Epoch 7/10\n",
      "13/13 [==============================] - 0s 5ms/step - loss: 0.4550 - accuracy: 0.8061 - val_loss: 0.5159 - val_accuracy: 0.8081\n",
      "Epoch 8/10\n",
      "13/13 [==============================] - 0s 5ms/step - loss: 0.4485 - accuracy: 0.8112 - val_loss: 0.5065 - val_accuracy: 0.8081\n",
      "Epoch 9/10\n",
      "13/13 [==============================] - 0s 4ms/step - loss: 0.4597 - accuracy: 0.8087 - val_loss: 0.5190 - val_accuracy: 0.8081\n",
      "Epoch 10/10\n",
      "13/13 [==============================] - 0s 4ms/step - loss: 0.4525 - accuracy: 0.8036 - val_loss: 0.5036 - val_accuracy: 0.8182\n"
     ]
    },
    {
     "data": {
      "text/plain": [
       "<keras.callbacks.History at 0x11213fb90d0>"
      ]
     },
     "execution_count": 32,
     "metadata": {},
     "output_type": "execute_result"
    }
   ],
   "source": [
    "nn = Sequential()\n",
    "nn.add(Dense(128,input_dim=xtrain.shape[1]))\n",
    "nn.add(Dense(96))\n",
    "nn.add(Dropout(0.5))\n",
    "nn.add(Dense(1,activation=\"sigmoid\"))\n",
    "nn.compile(loss=\"binary_crossentropy\",metrics=\"accuracy\",optimizer=\"adam\")\n",
    "nn.fit(xtrain,ytrain,epochs=10,validation_split=0.2)"
   ]
  },
  {
   "cell_type": "code",
   "execution_count": 33,
   "id": "44a8b033",
   "metadata": {},
   "outputs": [],
   "source": [
    "tr=model.history[\"accuracy\"]"
   ]
  },
  {
   "cell_type": "code",
   "execution_count": 34,
   "id": "65f2ed83",
   "metadata": {},
   "outputs": [],
   "source": [
    "ts=model.history[\"val_accuracy\"]"
   ]
  },
  {
   "cell_type": "code",
   "execution_count": 35,
   "id": "f74e8634",
   "metadata": {},
   "outputs": [
    {
     "data": {
      "text/plain": [
       "[<matplotlib.lines.Line2D at 0x11215bc08b0>]"
      ]
     },
     "execution_count": 35,
     "metadata": {},
     "output_type": "execute_result"
    },
    {
     "data": {
      "image/png": "[encoded data removed]",
      "text/plain": [
       "<Figure size 432x288 with 1 Axes>"
      ]
     },
     "metadata": {
      "needs_background": "light"
     },
     "output_type": "display_data"
    }
   ],
   "source": [
    "import matplotlib.pyplot as plt\n",
    "plt.plot(tr, c= \"red\")\n",
    "plt.plot(ts, c=\"blue\")"
   ]
  },
  {
   "cell_type": "code",
   "execution_count": 36,
   "id": "2333aa84",
   "metadata": {},
   "outputs": [
    {
     "name": "stdout",
     "output_type": "stream",
     "text": [
      "4/4 [==============================] - 0s 2ms/step\n"
     ]
    }
   ],
   "source": [
    "pred=nn.predict(xtest)"
   ]
  },
  {
   "cell_type": "code",
   "execution_count": 37,
   "id": "dceaa272",
   "metadata": {},
   "outputs": [],
   "source": [
    "Q=[]\n",
    "for i in pred:\n",
    "    if(i[0]<0.5):\n",
    "        Q.append(0)\n",
    "    else:\n",
    "        Q.append(1)"
   ]
  },
  {
   "cell_type": "code",
   "execution_count": 39,
   "id": "ab29a968",
   "metadata": {},
   "outputs": [],
   "source": [
    "#Q"
   ]
  },
  {
   "cell_type": "code",
   "execution_count": 40,
   "id": "16060f21",
   "metadata": {},
   "outputs": [
    {
     "data": {
      "text/plain": [
       "array(['N', 'Y', 'Y', 'Y', 'N', 'Y', 'Y', 'Y', 'N', 'N', 'Y', 'N', 'Y',\n",
       "       'Y', 'N', 'Y', 'Y', 'Y', 'N', 'Y', 'N', 'Y', 'Y', 'Y', 'N', 'N',\n",
       "       'Y', 'Y', 'Y', 'Y', 'Y', 'Y', 'Y', 'Y', 'Y', 'N', 'Y', 'Y', 'Y',\n",
       "       'N', 'Y', 'Y', 'Y', 'Y', 'Y', 'Y', 'N', 'Y', 'Y', 'Y', 'N', 'Y',\n",
       "       'N', 'Y', 'Y', 'Y', 'Y', 'Y', 'Y', 'Y', 'Y', 'Y', 'Y', 'Y', 'Y',\n",
       "       'Y', 'N', 'Y', 'Y', 'Y', 'Y', 'Y', 'Y', 'Y', 'Y', 'Y', 'Y', 'Y',\n",
       "       'Y', 'Y', 'Y', 'Y', 'Y', 'Y', 'Y', 'N', 'N', 'N', 'Y', 'Y', 'Y',\n",
       "       'Y', 'Y', 'Y', 'Y', 'Y', 'Y', 'Y', 'Y', 'Y', 'N', 'Y', 'Y', 'N',\n",
       "       'N', 'Y', 'Y', 'Y', 'Y', 'Y', 'Y', 'Y', 'Y', 'N', 'Y', 'N', 'N',\n",
       "       'Y', 'Y', 'Y', 'N', 'Y', 'Y'], dtype=object)"
      ]
     },
     "execution_count": 40,
     "metadata": {},
     "output_type": "execute_result"
    }
   ],
   "source": [
    "pred1= le.inverse_transform(Q)\n",
    "pred1"
   ]
  },
  {
   "cell_type": "code",
   "execution_count": 41,
   "id": "c88b3bd5",
   "metadata": {},
   "outputs": [
    {
     "data": {
      "text/plain": [
       "array(['N', 'Y', 'Y', 'Y', 'N', 'Y', 'N', 'Y', 'N', 'Y', 'Y', 'N', 'Y',\n",
       "       'Y', 'N', 'N', 'Y', 'Y', 'N', 'Y', 'N', 'Y', 'Y', 'N', 'N', 'N',\n",
       "       'Y', 'Y', 'N', 'Y', 'Y', 'Y', 'Y', 'Y', 'Y', 'Y', 'Y', 'Y', 'N',\n",
       "       'Y', 'Y', 'N', 'Y', 'N', 'Y', 'Y', 'N', 'Y', 'N', 'Y', 'N', 'Y',\n",
       "       'N', 'N', 'Y', 'Y', 'Y', 'Y', 'Y', 'N', 'Y', 'Y', 'Y', 'Y', 'Y',\n",
       "       'N', 'N', 'Y', 'Y', 'N', 'Y', 'Y', 'Y', 'N', 'Y', 'Y', 'Y', 'N',\n",
       "       'Y', 'Y', 'N', 'Y', 'Y', 'Y', 'Y', 'N', 'Y', 'N', 'N', 'N', 'Y',\n",
       "       'Y', 'Y', 'Y', 'Y', 'Y', 'Y', 'Y', 'Y', 'Y', 'N', 'Y', 'Y', 'N',\n",
       "       'N', 'Y', 'N', 'Y', 'Y', 'Y', 'Y', 'Y', 'Y', 'Y', 'Y', 'Y', 'N',\n",
       "       'Y', 'Y', 'Y', 'Y', 'Y', 'N'], dtype=object)"
      ]
     },
     "execution_count": 41,
     "metadata": {},
     "output_type": "execute_result"
    }
   ],
   "source": [
    "ytest1= le.inverse_transform(ytest)\n",
    "ytest1"
   ]
  },
  {
   "cell_type": "code",
   "execution_count": 42,
   "id": "204fd2c8",
   "metadata": {},
   "outputs": [],
   "source": [
    "W=pd.DataFrame([ytest1,pred1]).T"
   ]
  },
  {
   "cell_type": "code",
   "execution_count": 44,
   "id": "67b81a6b",
   "metadata": {},
   "outputs": [],
   "source": [
    "#W"
   ]
  },
  {
   "cell_type": "code",
   "execution_count": 45,
   "id": "0da4a8e2",
   "metadata": {},
   "outputs": [
    {
     "data": {
      "text/plain": [
       "0.7886178861788617"
      ]
     },
     "execution_count": 45,
     "metadata": {},
     "output_type": "execute_result"
    }
   ],
   "source": [
    "from sklearn.metrics import accuracy_score\n",
    "accuracy_score(ytest1,pred1)"
   ]
  },
  {
   "cell_type": "markdown",
   "id": "5b5b3540",
   "metadata": {},
   "source": [
    "# We can see here using NN, we are not getting the accuracy score better compare to Tree model \n",
    "so we will not consider this model for making the loan predcition"
   ]
  },
  {
   "cell_type": "code",
   "execution_count": null,
   "id": "6a0311e8",
   "metadata": {},
   "outputs": [],
   "source": []
  }
 ],
 "metadata": {
  "kernelspec": {
   "display_name": "Python 3 (ipykernel)",
   "language": "python",
   "name": "python3"
  },
  "language_info": {
   "codemirror_mode": {
    "name": "ipython",
    "version": 3
   },
   "file_extension": ".py",
   "mimetype": "text/x-python",
   "name": "python",
   "nbconvert_exporter": "python",
   "pygments_lexer": "ipython3",
   "version": "3.9.7"
  }
 },
 "nbformat": 4,
 "nbformat_minor": 5
}
